{
 "cells": [
  {
   "cell_type": "markdown",
   "id": "44b53c5f-c02f-4788-bd6e-8e6409068080",
   "metadata": {},
   "source": [
    "#### Импорт библиотек"
   ]
  },
  {
   "cell_type": "code",
   "execution_count": 1,
   "id": "611e75d3-a8b5-4b04-9bfe-14ea066f53d9",
   "metadata": {},
   "outputs": [
    {
     "name": "stdout",
     "output_type": "stream",
     "text": [
      "[]\n"
     ]
    }
   ],
   "source": [
    "import tensorflow as tf\n",
    "\n",
    "print(tf.config.list_physical_devices(\"GPU\"))"
   ]
  },
  {
   "cell_type": "code",
   "execution_count": 3,
   "id": "76f4fa1a-09b2-45ff-a853-81b15048debe",
   "metadata": {
    "scrolled": true
   },
   "outputs": [],
   "source": [
    "# Импорт библиотек\n",
    "#%pip install matplotlib\n",
    "\n",
    "import matplotlib.pyplot as plt\n",
    "from matplotlib.ticker import (AutoMinorLocator)\n",
    "# Настройка представления\n",
    "%matplotlib inline\n",
    "%config InlineBackend.figure_format = 'svg'"
   ]
  },
  {
   "cell_type": "markdown",
   "id": "2b537e35-ffaa-4fcd-898e-a26c74b7365b",
   "metadata": {},
   "source": [
    "#### Получение полигармонического сигнала\n",
    "$$X(t_k) = A \\sum_{i = 1}^5 \\sin(2\\pi f_i t_k)$$\n"
   ]
  },
  {
   "cell_type": "code",
   "execution_count": 5,
   "id": "5a51ed05-8e0d-44a9-bf62-dfdd250c753b",
   "metadata": {},
   "outputs": [
    {
     "ename": "NameError",
     "evalue": "name 'np' is not defined",
     "output_type": "error",
     "traceback": [
      "\u001b[1;31m---------------------------------------------------------------------------\u001b[0m",
      "\u001b[1;31mNameError\u001b[0m                                 Traceback (most recent call last)",
      "Cell \u001b[1;32mIn[5], line 9\u001b[0m\n\u001b[0;32m      6\u001b[0m f5 \u001b[38;5;241m=\u001b[39m \u001b[38;5;241m16\u001b[39m\n\u001b[0;32m      8\u001b[0m N \u001b[38;5;241m=\u001b[39m \u001b[38;5;241m256\u001b[39m \u001b[38;5;66;03m# Количество отсчетов\u001b[39;00m\n\u001b[1;32m----> 9\u001b[0m i \u001b[38;5;241m=\u001b[39m np\u001b[38;5;241m.\u001b[39marange(N) \u001b[38;5;66;03m# Массив номеров отсчетов 1..N\u001b[39;00m\n\u001b[0;32m     10\u001b[0m f \u001b[38;5;241m=\u001b[39m np\u001b[38;5;241m.\u001b[39marray([f1, f2, f3, f4, f5]) \u001b[38;5;66;03m# Массив частот составляющих полигармонического сигнала\u001b[39;00m\n\u001b[0;32m     11\u001b[0m num_period \u001b[38;5;241m=\u001b[39m \u001b[38;5;241m0.4\u001b[39m\n",
      "\u001b[1;31mNameError\u001b[0m: name 'np' is not defined"
     ]
    }
   ],
   "source": [
    "A = 10\n",
    "f1 = 10\n",
    "f2 = 21\n",
    "f3 = 18\n",
    "f4 = 23\n",
    "f5 = 16\n",
    "\n",
    "N = 256 # Количество отсчетов\n",
    "i = np.arange(N) # Массив номеров отсчетов 1..N\n",
    "f = np.array([f1, f2, f3, f4, f5]) # Массив частот составляющих полигармонического сигнала\n",
    "num_period = 0.4\n",
    "T = 1/min(f) * 0.01 * num_period# Период дискретизации сигнала\n",
    "\n",
    "# Генерируем полигармонический сигнал\n",
    "X = 0\n",
    "for k in np.arange(f.size):\n",
    "  X += np.sin(2*np.pi*f[k]*T*i)\n",
    "X *= A/f.size # Приводим сигнал к заданной амплитуде\n",
    "\n",
    "fig, ax = plt.subplots(figsize=(10, 6), dpi=300)\n",
    "ax.set_title('Полигармонический сигнал X(t)', fontsize=14)\n",
    "ax.set_xlabel('t [сек]', fontsize=12)\n",
    "ax.set_ylabel('X(t) [В]', fontsize=12)\n",
    "ax.plot(i*T, X)\n",
    "ax.plot([i[0]*T, i[-1]*T], [A, A], 'r-*', linewidth=1, alpha=0.3)\n",
    "ax.plot([i[0]*T, i[-1]*T], [-A, -A], 'r-*', linewidth=1, alpha=0.3)\n",
    "ax.xaxis.set_minor_locator(AutoMinorLocator())\n",
    "ax.yaxis.set_minor_locator(AutoMinorLocator())\n",
    "ax.grid(which='major', color='blue', linewidth=0.75, alpha=0.3)\n",
    "ax.grid(which='minor', linestyle='--', color='blue', linewidth=0.5, alpha=0.3)\n"
   ]
  },
  {
   "cell_type": "markdown",
   "id": "fa935bdf-4890-4128-80ed-6816fdd576ca",
   "metadata": {},
   "source": [
    "#### Наложение шума на сигнал"
   ]
  },
  {
   "cell_type": "code",
   "execution_count": null,
   "id": "1fb8b8d1-269b-46a3-a5d2-14bb67738a29",
   "metadata": {},
   "outputs": [],
   "source": [
    "noise_level = 0.15\n",
    "rng = np.random.default_rng(12340)\n",
    "noise = rng.normal(0, A*noise_level, N)\n",
    "\n",
    "# Накладываем шум на полезный сигнал и строим график\n",
    "Xn = X + noise\n",
    "fig, ax = plt.subplots(figsize=(10, 6), dpi=300)\n",
    "ax.set_title('Полигармонический сигнал X(t)', fontsize=14)\n",
    "ax.set_xlabel('t [сек]', fontsize=12)\n",
    "ax.set_ylabel('X(t), Xn(t) [В]', fontsize=12)\n",
    "ax.plot(i*T, Xn, label='Сигнал c шумом Xn(t)')\n",
    "ax.plot(i*T, X, label='Сигнал без шума X(t)')\n",
    "ax.plot([i[0]*T, i[-1]*T], [A, A], 'r-*', linewidth=1, alpha=0.3)\n",
    "ax.plot([i[0]*T, i[-1]*T], [-A, -A], 'r-*', linewidth=1, alpha=0.3)\n",
    "ax.xaxis.set_minor_locator(AutoMinorLocator())\n",
    "ax.yaxis.set_minor_locator(AutoMinorLocator())\n",
    "ax.grid(which='major', color='blue', linewidth=0.75, alpha=0.3)\n",
    "ax.grid(which='minor', linestyle='--', color='blue', linewidth=0.5, alpha=0.3)\n",
    "ax.legend()\n",
    "#fig.savefig(r'fig_3.png')"
   ]
  },
  {
   "cell_type": "markdown",
   "id": "57839086-9e52-467a-a713-dd7ef2bec272",
   "metadata": {},
   "source": [
    "#### Генерация обучающей выборки (чистые сигналы)"
   ]
  },
  {
   "cell_type": "code",
   "execution_count": null,
   "id": "40184d1c-ca16-4f4f-8bc2-b17447500eef",
   "metadata": {},
   "outputs": [],
   "source": [
    "# размер выборки\n",
    "num_samples = 200000\n",
    "\n",
    "\n",
    "# Other configuration\n",
    "num_samples_visualize = 2\n",
    "\n",
    "# Containers for samples and subsamples\n",
    "samples = []\n",
    "\n",
    "# Generate samples\n",
    "print(\"Сгенерировано:\")\n",
    "for j in range(0, num_samples):\n",
    "  # Report progress\n",
    "    if j % 10000 == 0:\n",
    "        print(j)\n",
    "        \n",
    "  # Generate wave\n",
    "    A = np.random.uniform(2.5,20)\n",
    "    start_f = np.random.randint(10, 100)\n",
    "    step = np.random.randint(10, 30)\n",
    "    f = np.array([start_f, start_f+step, start_f+2*step, start_f+3*step, start_f+4*step]) # Массив частот составляющих полигармонического сигнала\n",
    "\n",
    "    N = 200 # Количество отсчетов\n",
    "    i = np.arange(N) # Массив номеров отсчетов 1..N\n",
    "\n",
    "    # взято полпериода\n",
    "    num_period = 1\n",
    "    T = 1/min(f) * 0.01 * num_period# Период дискретизации сигнала\n",
    "    \n",
    "    # Генерируем полигармонический сигнал\n",
    "    X = 0\n",
    "    for k in np.arange(f.size):\n",
    "        X += np.sin(2*np.pi*f[k]*T*i)\n",
    "    X *= A/f.size # Приводим сигнал к заданной амплитуде\n",
    "    \n",
    "    samples.append((i*T, X))\n",
    "\n",
    "\n",
    "\n",
    "print(np.shape(np.array(samples[0][0])))\n",
    "  \n",
    "\n",
    "np.save('./signal_waves.npy', samples)\n",
    "\n",
    "# Visualize a few random samples\n",
    "for i in range(0, num_samples_visualize):\n",
    "    random_index = np.random.randint(0, len(samples)-1)\n",
    "    x_axis, y_axis = samples[random_index]\n",
    "    plt.plot(x_axis, y_axis)\n",
    "    plt.grid(which='major', color='blue', linewidth=0.75, alpha=0.3)\n",
    "    plt.title(f'Visualization of sample {random_index}')\n",
    "    plt.show()"
   ]
  },
  {
   "cell_type": "markdown",
   "id": "c9d9b90f-2a3c-46f7-aafe-1ceddbbe723c",
   "metadata": {},
   "source": [
    "### Данные с шумом"
   ]
  },
  {
   "cell_type": "code",
   "execution_count": null,
   "id": "b33318aa-dd60-4cac-8a79-016654aa6607",
   "metadata": {},
   "outputs": [],
   "source": [
    "\n",
    "num_samples_visualize = 3\n",
    "\n",
    "\n",
    "data = np.load('./signal_waves.npy')\n",
    "x_val, y_val = data[:,0], data[:,1]\n",
    "\n",
    "# Add noise to data\n",
    "noisy_samples = []\n",
    "print(\"Сгенерировано:\")\n",
    "for i in range(0, len(x_val)):\n",
    "    noise_factor = np.random.uniform(0.15,0.25)\n",
    "    if i % 10000 == 0:\n",
    "        print(i)\n",
    "    pure = np.array(y_val[i])\n",
    "    noise = np.random.normal(0, A*noise_factor, pure.shape)\n",
    "    signal = pure + noise\n",
    "    noisy_samples.append([x_val[i], signal])\n",
    "  \n",
    "\n",
    "np.save('./signal_waves_noisy.npy', noisy_samples)\n",
    "\n",
    "# Visualize a few random samples\n",
    "for i in range(0, num_samples_visualize):\n",
    "    random_index = np.random.randint(0, len(noisy_samples)-1)\n",
    "    x_axis, y_axis = noisy_samples[random_index]\n",
    "    plt.plot(x_axis, y_axis)\n",
    "    plt.grid(which='major', color='blue', linewidth=0.75, alpha=0.3)\n",
    "    plt.title(f'Visualization of noisy sample {random_index} ---- y: f(x)')\n",
    "    plt.show()"
   ]
  },
  {
   "cell_type": "markdown",
   "id": "4fdb5c2d-9a40-4393-a437-c74c161882e6",
   "metadata": {},
   "source": [
    "### Обработка данных"
   ]
  },
  {
   "cell_type": "markdown",
   "id": "40016a33-ea71-4715-9803-43053e782232",
   "metadata": {},
   "source": [
    "#### Импорт библиотек"
   ]
  },
  {
   "cell_type": "code",
   "execution_count": null,
   "id": "3406d9f4-75a8-49e7-9d57-ae6bdb735ec4",
   "metadata": {},
   "outputs": [],
   "source": [
    "import tensorflow as tf\n",
    "import tensorflow.keras\n",
    "from tensorflow.keras.models import load_model\n",
    "from tensorflow.keras.models import Sequential\n",
    "from tensorflow.keras.layers import Conv1D, Conv1DTranspose\n",
    "from tensorflow.keras.constraints import max_norm\n",
    "#import matplotlib.pyplot as plt\n",
    "import numpy as np\n",
    "import math\n",
    "\n",
    "#print(tf.config.list_physical_devices('GPU') )"
   ]
  },
  {
   "cell_type": "code",
   "execution_count": null,
   "id": "e1e72a9a-0d19-4e5e-bc83-f564cf111310",
   "metadata": {},
   "outputs": [],
   "source": [
    "input_shape = (200, 1)\n",
    "batch_size = 200 #150\n",
    "no_epochs = 8\n",
    "train_test_split = 0.3\n",
    "validation_split = 0.2\n",
    "verbosity = 1\n",
    "max_norm_value = 2.0\n",
    "\n",
    "data_noisy = np.load('./signal_waves_noisy.npy')\n",
    "x_val_noisy, y_val_noisy = data_noisy[:,0], data_noisy[:,1]\n",
    "data_pure = np.load('./signal_waves.npy')\n",
    "x_val_pure, y_val_pure = data_pure[:,0], data_pure[:,1]\n",
    "\n",
    "# Reshape data\n",
    "y_val_noisy_r = []\n",
    "y_val_pure_r = []\n",
    "for i in range(0, len(y_val_noisy)):\n",
    "    noisy_sample = y_val_noisy[i]\n",
    "    pure_sample = y_val_pure[i]\n",
    "    noisy_sample = (noisy_sample - np.min(noisy_sample)) / (np.max(noisy_sample) - np.min(noisy_sample))\n",
    "    pure_sample = (pure_sample - np.min(pure_sample)) / (np.max(pure_sample) - np.min(pure_sample))\n",
    "    y_val_noisy_r.append(noisy_sample)\n",
    "    y_val_pure_r.append(pure_sample)\n",
    "    \n",
    "y_val_noisy_r = np.array(y_val_noisy_r)\n",
    "y_val_pure_r = np.array(y_val_pure_r)\n",
    "noisy_input = y_val_noisy_r.reshape((y_val_noisy_r.shape[0], y_val_noisy_r.shape[1], 1))\n",
    "pure_input = y_val_pure_r.reshape((y_val_pure_r.shape[0], y_val_pure_r.shape[1], 1))\n",
    "\n",
    "percentage_training = math.floor((1 - train_test_split) * len(noisy_input))\n",
    "noisy_input, noisy_input_test = noisy_input[:percentage_training], noisy_input[percentage_training:]\n",
    "pure_input, pure_input_test = pure_input[:percentage_training], pure_input[percentage_training:]\n",
    "print(\"all data normalize\")"
   ]
  },
  {
   "attachments": {
    "445692a0-86fc-480f-820b-c2ffb73dc2db.png": {
     "image/png": "[encoded data removed]"
    }
   },
   "cell_type": "markdown",
   "id": "d17f144b-f8c0-4b09-8a0d-ec2b1ee4d977",
   "metadata": {},
   "source": [
    "#### Создание **autoencoder**\n",
    "![model-5-187x300.png](attachment:445692a0-86fc-480f-820b-c2ffb73dc2db.png)"
   ]
  },
  {
   "cell_type": "code",
   "execution_count": null,
   "id": "67962829-dc39-4b9d-9293-7579a4260724",
   "metadata": {},
   "outputs": [],
   "source": [
    "model = Sequential()\n",
    "model.add(Conv1D(128, kernel_size=4, kernel_constraint=max_norm(max_norm_value), activation='relu', kernel_initializer='he_uniform', input_shape=input_shape))\n",
    "model.add(Conv1D(32, kernel_size=4, kernel_constraint=max_norm(max_norm_value), activation='relu', kernel_initializer='he_uniform'))\n",
    "model.add(Conv1DTranspose(32, kernel_size=4, kernel_constraint=max_norm(max_norm_value), activation='relu', kernel_initializer='he_uniform'))\n",
    "model.add(Conv1D(128, kernel_size=4, kernel_constraint=max_norm(max_norm_value), activation='relu', kernel_initializer='he_uniform'))\n",
    "model.add(Conv1DTranspose(128, kernel_size=4, kernel_constraint=max_norm(max_norm_value), activation='relu', kernel_initializer='he_uniform'))\n",
    "model.add(Conv1DTranspose(128, kernel_size=4, kernel_constraint=max_norm(max_norm_value), activation='relu', kernel_initializer='he_uniform'))\n",
    "model.add(Conv1D(1, kernel_size=4, kernel_constraint=max_norm(max_norm_value), activation='sigmoid', padding='same'))\n",
    "model.summary()\n",
    "\n",
    "\n",
    "# model = Sequential()\n",
    "\n",
    "# # Увеличиваем количество фильтров в первом сверточном слое\n",
    "# model.add(Conv1D(256, kernel_size=3, kernel_constraint=max_norm(max_norm_value), activation='relu', kernel_initializer='he_uniform', input_shape=input_shape))\n",
    "# model.add(Conv1D(128, kernel_size=3, kernel_constraint=max_norm(max_norm_value), activation='relu', kernel_initializer='he_uniform'))\n",
    "\n",
    "# # Добавляем дополнительные сверточные слои\n",
    "# model.add(Conv1D(64, kernel_size=3, kernel_constraint=max_norm(max_norm_value), activation='relu', kernel_initializer='he_uniform'))\n",
    "\n",
    "# # Начинаем транспонированные слои (Conv1DTranspose) для декодирования\n",
    "# model.add(Conv1DTranspose(64, kernel_size=3, kernel_constraint=max_norm(max_norm_value), activation='relu', kernel_initializer='he_uniform'))\n",
    "# model.add(Conv1DTranspose(128, kernel_size=3, kernel_constraint=max_norm(max_norm_value), activation='relu', kernel_initializer='he_uniform'))\n",
    "\n",
    "# # Добавляем больше фильтров в транспонированные слои\n",
    "# model.add(Conv1DTranspose(256, kernel_size=3, kernel_constraint=max_norm(max_norm_value), activation='relu', kernel_initializer='he_uniform'))\n",
    "\n",
    "# # Финальный слой для восстановления формы выхода\n",
    "# model.add(Conv1D(1, kernel_size=3, kernel_constraint=max_norm(max_norm_value), activation='sigmoid', padding='same'))\n",
    "\n",
    "# model.summary()"
   ]
  },
  {
   "cell_type": "markdown",
   "id": "c853dc4d-cd28-4d7f-8f4a-8f19c177ab28",
   "metadata": {},
   "source": [
    "### Второй вариант архитектуру модели"
   ]
  },
  {
   "cell_type": "code",
   "execution_count": null,
   "id": "d87873b8-2eaa-44d9-9ef0-a93ba91dc048",
   "metadata": {},
   "outputs": [],
   "source": [
    "# from tensorflow.keras.models import Model\n",
    "# from tensorflow.keras.layers import Input, Conv1D, MaxPooling1D, UpSampling1D, Dropout, BatchNormalization, Dense, LSTM\n",
    "\n",
    "# def create_better_autoencoder(input_shape):\n",
    "#     inputs = Input(shape=input_shape)\n",
    "    \n",
    "#     # Encoder\n",
    "#     x = Conv1D(32, 3, activation=\"relu\", padding=\"same\")(inputs)\n",
    "#     x = BatchNormalization()(x)\n",
    "#     x = MaxPooling1D(2, padding=\"same\")(x)\n",
    "    \n",
    "#     x = Conv1D(64, 3, activation=\"relu\", padding=\"same\")(x)\n",
    "#     x = BatchNormalization()(x)\n",
    "#     x = MaxPooling1D(2, padding=\"same\")(x)\n",
    "    \n",
    "#     x = Conv1D(128, 3, activation=\"relu\", padding=\"same\")(x)\n",
    "#     x = BatchNormalization()(x)\n",
    "#     x = Dropout(0.3)(x)  # Dropout для регуляризации\n",
    "    \n",
    "#     x = LSTM(128, return_sequences=True)(x)\n",
    "#     x = LSTM(128, return_sequences=True)(x)\n",
    "    \n",
    "#     # Decoder\n",
    "#     x = Conv1DTranspose(128, 3, activation=\"relu\", padding=\"same\")(x)\n",
    "#     x = BatchNormalization()(x)\n",
    "#     x = UpSampling1D(2)(x)\n",
    "    \n",
    "#     x = Conv1DTranspose(64, 3, activation=\"relu\", padding=\"same\")(x)\n",
    "#     x = BatchNormalization()(x)\n",
    "#     x = UpSampling1D(2)(x)\n",
    "    \n",
    "#     x = Conv1DTranspose(32, 3, activation=\"relu\", padding=\"same\")(x)\n",
    "#     x = BatchNormalization()(x)\n",
    "    \n",
    "#     # Выходной слой\n",
    "#     decoded = Conv1D(1, 3, activation='sigmoid', padding='same')(x)\n",
    "\n",
    "#     # Создание и компиляция модели\n",
    "#     autoencoder = Model(inputs, decoded)\n",
    "#     autoencoder.compile(optimizer='adam', loss='mse')\n",
    "    \n",
    "#     return autoencoder\n",
    "\n",
    "# input_shape = (200, 1)  # Пример, замените на вашу реальную размерность\n",
    "# model = create_better_autoencoder(input_shape)\n",
    "# model.summary()\n"
   ]
  },
  {
   "cell_type": "markdown",
   "id": "517a1727-1118-44d2-a6cb-2de559a867ed",
   "metadata": {},
   "source": [
    "#### Компилирование модели"
   ]
  },
  {
   "cell_type": "code",
   "execution_count": null,
   "id": "687f778c-87ed-41f3-93bb-06f8e3775de9",
   "metadata": {},
   "outputs": [],
   "source": [
    "model.compile(optimizer='adam', loss='binary_crossentropy')\n",
    "model.fit(noisy_input, pure_input,\n",
    "                epochs=no_epochs,\n",
    "                batch_size=batch_size,\n",
    "                validation_split=validation_split)\n",
    "\n",
    "model.save('model_start_gpu.keras')\n"
   ]
  },
  {
   "cell_type": "markdown",
   "id": "91d1b053-4fd1-4922-bcf1-531adaa8d945",
   "metadata": {},
   "source": [
    "## Дообучение"
   ]
  },
  {
   "cell_type": "code",
   "execution_count": null,
   "id": "1d2b8a5a-bc68-4ae4-99bd-5ae5b3fcae52",
   "metadata": {},
   "outputs": [],
   "source": [
    "\n",
    "# model = load_model('model_start.keras')\n",
    "# no_epochs = 10\n",
    "# model.fit(noisy_input, pure_input,\n",
    "#                epochs=no_epochs,\n",
    "#                batch_size=batch_size,\n",
    "#                validation_split=validation_split)\n",
    "# model.save('model_period.keras')"
   ]
  },
  {
   "cell_type": "markdown",
   "id": "ba9efb65-ce13-4cfa-bab5-7538f819170c",
   "metadata": {},
   "source": [
    "### Фильтрация скользящим средним"
   ]
  },
  {
   "cell_type": "code",
   "execution_count": null,
   "id": "632e4d1a-bea0-41b2-adac-70f0fa669e2e",
   "metadata": {},
   "outputs": [],
   "source": [
    "def exponential_moving_avereage(data, smooth_interval = 2):\n",
    "    if smooth_interval >= len(data):\n",
    "        print(\"Smooth interval more or equal array lenght!\")\n",
    "        return\n",
    "    \n",
    "    alpha = 2.0/(smooth_interval+1)\n",
    "    filtered_values = np.zeros(len(data))\n",
    "    sum = 0\n",
    "\n",
    "    for step in range(smooth_interval):\n",
    "        sum += data[step]\n",
    "    previous_ma_value = sum/smooth_interval\n",
    "\n",
    "    for step in range(smooth_interval-1):\n",
    "        previous_ma_value = alpha*data[step]+(1-alpha)*previous_ma_value\n",
    "        filtered_values[step] = previous_ma_value\n",
    "\n",
    "    sum = 0\n",
    "\n",
    "    for step in range(smooth_interval):\n",
    "        sum += data[step]\n",
    "    previous_ma_value = sum/smooth_interval\n",
    "    filtered_values[smooth_interval-1] = previous_ma_value\n",
    "\n",
    "    for step in range(smooth_interval, len(data)):\n",
    "        previous_ma_value = alpha*data[step]+(1-alpha)*previous_ma_value\n",
    "        filtered_values[step] = previous_ma_value\n",
    "\n",
    "    return filtered_values\n",
    "window_size = 2"
   ]
  },
  {
   "cell_type": "markdown",
   "id": "07c1f987-80a3-4843-aa8f-ff1010e13347",
   "metadata": {},
   "source": [
    "### Проверка предсказания"
   ]
  },
  {
   "cell_type": "code",
   "execution_count": null,
   "id": "788e3afd-ae96-4c28-8e48-9686ff63b8ef",
   "metadata": {},
   "outputs": [],
   "source": [
    "from sklearn.metrics import r2_score\n",
    "from sklearn.metrics import mean_absolute_error\n",
    "from sklearn.metrics import mean_squared_error\n",
    "model = load_model('model_start.keras')\n",
    "num_reconstructions = 6\n",
    "samples_pure = pure_input_test[:1000]\n",
    "samples_noisy = noisy_input_test[:1000]\n",
    "reconstructions = model.predict(samples_noisy)\n",
    "# Plot reconstructions\n",
    "for i in np.arange(0, num_reconstructions):\n",
    "    # Prediction index\n",
    "    prediction_index = np.random.randint(1, 1000)\n",
    "    print(prediction_index)\n",
    "    # Get the sample and the reconstruction\n",
    "    original = np.array(samples_pure[prediction_index]).reshape(200, 1)\n",
    "    noisy = np.array(samples_noisy[prediction_index]).reshape(200,1)\n",
    "    reconstruction = np.array(reconstructions[prediction_index]).reshape(200,1)\n",
    "    avereage = np.array(exponential_moving_avereage(noisy, 2)).reshape(200,1)\n",
    "    \n",
    "    # Matplotlib preparations\n",
    "    fig, axes = plt.subplots(1, 4, dpi=300)\n",
    "      # Plot sample and reconstruciton\n",
    "    axes[0].plot(noisy)\n",
    "    axes[0].set_ylabel('Зашумленный сигнал', fontsize=10)\n",
    "    axes[1].plot(original)\n",
    "    axes[1].set_ylabel('Чистый сигнал', fontsize=10)\n",
    "    axes[2].plot(reconstruction)\n",
    "    axes[2].set_ylabel('Очищенный сигнал (AutoEncoder)', fontsize=10)\n",
    "    axes[3].plot(avereage)\n",
    "    axes[3].set_ylabel('Очищенный сигнал(Скользящее среднее)', fontsize=10)\n",
    "    axes[0].xaxis.set_minor_locator(AutoMinorLocator())\n",
    "    axes[0].yaxis.set_minor_locator(AutoMinorLocator())\n",
    "    axes[0].grid(which='major', color='blue', linewidth=0.75, alpha=0.3)\n",
    "    axes[0].grid(which='minor', linestyle='--', color='blue', linewidth=0.5, alpha=0.3)\n",
    "    axes[1].xaxis.set_minor_locator(AutoMinorLocator())\n",
    "    axes[1].yaxis.set_minor_locator(AutoMinorLocator())\n",
    "    axes[1].grid(which='major', color='blue', linewidth=0.75, alpha=0.3)\n",
    "    axes[1].grid(which='minor', linestyle='--', color='blue', linewidth=0.5, alpha=0.3)\n",
    "    axes[2].xaxis.set_minor_locator(AutoMinorLocator())\n",
    "    axes[2].yaxis.set_minor_locator(AutoMinorLocator())\n",
    "    axes[2].grid(which='major', color='blue', linewidth=0.75, alpha=0.3)\n",
    "    axes[2].grid(which='minor', linestyle='--', color='blue', linewidth=0.5, alpha=0.3)\n",
    "    axes[3].xaxis.set_minor_locator(AutoMinorLocator())\n",
    "    axes[3].yaxis.set_minor_locator(AutoMinorLocator())\n",
    "    axes[3].grid(which='major', color='blue', linewidth=0.75, alpha=0.3)\n",
    "    axes[3].grid(which='minor', linestyle='--', color='blue', linewidth=0.5, alpha=0.3)  \n",
    "    plt.tight_layout()\n",
    "    fig.savefig(r'fig_' + str(prediction_index) + '.png')\n",
    "    plt.show()\n",
    "    \n",
    "    errorX = np.abs(original - noisy)\n",
    "    # Ошибка между сигналом без шума и восстановленным сигналом\n",
    "    errorX0 = np.abs(original - reconstruction)\n",
    "    errorX1 = np.abs(original - avereage)\n",
    "    \n",
    "    fig, ax = plt.subplots(figsize=(10, 6), dpi=300)\n",
    "    ax.set_title('Ошибка между сигналами E(t)', fontsize=14)\n",
    "    ax.set_xlabel('t [сек]', fontsize=12)\n",
    "    ax.set_ylabel('E(t)', fontsize=12)\n",
    "    ax.plot(errorX, label='Ошибка между сигналом без шума и сигналом с шумом')\n",
    "    ax.plot(errorX0, label='Ошибка между сигналом без шума и восстановленным сигналом с помощью автоэнкодера')\n",
    "\n",
    "    ax.xaxis.set_minor_locator(AutoMinorLocator())\n",
    "    ax.yaxis.set_minor_locator(AutoMinorLocator())\n",
    "    ax.grid(which='major', color='blue', linewidth=0.75, alpha=0.3)\n",
    "    ax.grid(which='minor', linestyle='--', color='blue', linewidth=0.5, alpha=0.3)\n",
    "    ax.legend()\n",
    "\n",
    "    fig, ax = plt.subplots(figsize=(10, 6), dpi=300)\n",
    "    ax.set_title('Ошибка между сигналами E(t)', fontsize=14)\n",
    "    ax.set_xlabel('t [сек]', fontsize=12)\n",
    "    ax.set_ylabel('E(t)', fontsize=12)\n",
    "    ax.plot(errorX0, label='Ошибка между сигналом без шума и восстановленным сигналом с помощью автоэнкодера')\n",
    "    ax.plot(errorX1, label='Ошибка между сигналом без шума и EMA')\n",
    "\n",
    "    ax.xaxis.set_minor_locator(AutoMinorLocator())\n",
    "    ax.yaxis.set_minor_locator(AutoMinorLocator())\n",
    "    ax.grid(which='major', color='blue', linewidth=0.75, alpha=0.3)\n",
    "    ax.grid(which='minor', linestyle='--', color='blue', linewidth=0.5, alpha=0.3)\n",
    "    ax.legend()\n",
    "    fig.savefig(r'fig1_' + str(prediction_index) + '.png')\n",
    "\n",
    "    # Расчет статистических характеристик\n",
    "    print('R2 error original/noise: {:.4f}\\n'.format(r2_score(original, noisy)))\n",
    "    print('R2 error original/reconstruction: {:.4f}\\n'.format(r2_score(original, reconstruction)))\n",
    "    print('R2 error original/EMA: {:.4f}\\n'.format(r2_score(original, avereage)))\n",
    "    print('MAE error  original/noise: {:.4f}\\n'.format(mean_absolute_error(original, noisy)))\n",
    "    print('MAE error original/reconstruction: {:.4f}\\n'.format(mean_absolute_error(original, reconstruction)))\n",
    "    print('MAE error original/EMA: {:.4f}\\n'.format(mean_absolute_error(original, avereage)))\n",
    "    print('MSE error original/noise : {:.4f}\\n'.format(mean_squared_error(original, noisy)))\n",
    "    print('MSE error original/reconstruction: {:.4f}\\n'.format(mean_squared_error(original, reconstruction)))\n",
    "    print('MSE error original/EMA: {:.4f}\\n'.format(mean_squared_error(original, avereage)))\n"
   ]
  },
  {
   "cell_type": "code",
   "execution_count": null,
   "id": "ecaa10ff-7e3e-4504-9010-ab24aa8d7869",
   "metadata": {},
   "outputs": [],
   "source": []
  }
 ],
 "metadata": {
  "kernelspec": {
   "display_name": "Python 3 (ipykernel)",
   "language": "python",
   "name": "python3"
  },
  "language_info": {
   "codemirror_mode": {
    "name": "ipython",
    "version": 3
   },
   "file_extension": ".py",
   "mimetype": "text/x-python",
   "name": "python",
   "nbconvert_exporter": "python",
   "pygments_lexer": "ipython3",
   "version": "3.12.7"
  }
 },
 "nbformat": 4,
 "nbformat_minor": 5
}
